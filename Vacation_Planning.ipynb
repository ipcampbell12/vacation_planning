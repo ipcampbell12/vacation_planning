{
 "cells": [
  {
   "cell_type": "markdown",
   "id": "ee83e6fb",
   "metadata": {},
   "source": [
    "## Exercise - Data Analysis for Vacation Planning\n",
    "\n",
    "You're planning a vacation, and you need to decide which city you want to visit. You have shortlisted four cities and identified the return flight cost, daily hotel cost, and weekly car rental cost. While renting a car, you need to pay for entire weeks, even if you return the car sooner.\n",
    "\n",
    "\n",
    "| City | Return Flight (`$`) | Hotel per day (`$`) | Weekly Car Rental  (`$`) | \n",
    "|------|--------------------------|------------------|------------------------|\n",
    "| Paris|       200                |       20         |          200           |\n",
    "| London|      250                |       30         |          120           |\n",
    "| Dubai|       370                |       15         |          80           |\n",
    "| Mumbai|      450                |       10         |          70           |         \n",
    "\n",
    "\n",
    "Answer the following questions using the data above:\n",
    "\n",
    "1. If you're planning a 1-week long trip, which city should you visit to spend the least amount of money?\n",
    "2. How does the answer to the previous question change if you change the trip's duration to four days, ten days or two weeks?\n",
    "3. If your total budget for the trip is `$1000`, which city should you visit to maximize the duration of your trip? Which city should you visit if you want to minimize the duration?\n",
    "4. How does the answer to the previous question change if your budget is `$600`, `$2000`, or `$1500`?\n",
    "\n",
    "*Hint: To answer these questions, it will help to define a function `cost_of_trip` with relevant inputs like flight cost, hotel rate, car rental rate, and duration of the trip. You may find the `math.ceil` function useful for calculating the total cost of car rental.*"
   ]
  },
  {
   "cell_type": "code",
   "execution_count": 1,
   "id": "cf90377a",
   "metadata": {},
   "outputs": [
    {
     "data": {
      "text/plain": [
       "{'Paris': {'city': 'Paris',\n",
       "  'flight': 200,\n",
       "  'hotel_per_day': 20,\n",
       "  'weekly_car_rental': 200},\n",
       " 'London': {'city': 'London',\n",
       "  'flight': 250,\n",
       "  'hotel_per_day': 30,\n",
       "  'weekly_car_rental': 120},\n",
       " 'Dubai': {'city': 'Dubai',\n",
       "  'flight': 370,\n",
       "  'hotel_per_day': 15,\n",
       "  'weekly_car_rental': 80},\n",
       " 'Mumbai': {'city': 'Mumbai',\n",
       "  'flight': 450,\n",
       "  'hotel_per_day': 10,\n",
       "  'weekly_car_rental': 70}}"
      ]
     },
     "execution_count": 1,
     "metadata": {},
     "output_type": "execute_result"
    }
   ],
   "source": [
    "vc = {\n",
    "    \"Paris\": {\"city\":\"Paris\",\"flight\":200,\"hotel_per_day\":20,\"weekly_car_rental\":200},\n",
    "    \"London\":{\"city\":\"London\",\"flight\":250,\"hotel_per_day\":30,\"weekly_car_rental\":120 },\n",
    "    \"Dubai\":{ \"city\":\"Dubai\",\"flight\":370,\"hotel_per_day\":15,\"weekly_car_rental\":80},\n",
    "    \"Mumbai\":{\"city\":\"Mumbai\",\"flight\":450,\"hotel_per_day\":10,\"weekly_car_rental\":70}\n",
    "}\n",
    "    \n",
    "vc"
   ]
  },
  {
   "cell_type": "code",
   "execution_count": 91,
   "id": "62400627",
   "metadata": {},
   "outputs": [],
   "source": [
    "import math\n",
    "\n",
    "def trip_cost(city,days):\n",
    "    flight = vc[city]['flight']\n",
    "    hotel = vc[city][\"hotel_per_day\"]\n",
    "    car = vc[city][\"weekly_car_rental\"]\n",
    "    \n",
    "    total_hotel = hotel*days\n",
    "    total_car = car*math.ceil(days/7) #integer number of weeks\n",
    "    \n",
    "    total_cost = flight+total_hotel+total_car\n",
    "    return (city,total_cost)\n",
    "    \n",
    "def find_cheapest(cities,days):\n",
    "    cost_dict = {}\n",
    "    \n",
    "    for city in cities:\n",
    "        cost_dict[city]=trip_cost(city,days)[1]\n",
    "    \n",
    "    best_price = min(cost_dict.values())\n",
    "    best_price_city = min(cost_dict,key=cost_dict.get)\n",
    "    \n",
    "    print(cost_dict)\n",
    "    return f\"The cheapest option for {days} days would be ${best_price} to go to {best_price_city}\""
   ]
  },
  {
   "cell_type": "code",
   "execution_count": 92,
   "id": "a48d95f6",
   "metadata": {},
   "outputs": [
    {
     "name": "stdout",
     "output_type": "stream",
     "text": [
      "{'Paris': 540, 'London': 580, 'Dubai': 555, 'Mumbai': 590}\n"
     ]
    },
    {
     "data": {
      "text/plain": [
       "'The cheapest option for 7 days would be $540 to go to Paris'"
      ]
     },
     "execution_count": 92,
     "metadata": {},
     "output_type": "execute_result"
    }
   ],
   "source": [
    "find_cheapest(vc,7)"
   ]
  },
  {
   "cell_type": "code",
   "execution_count": 110,
   "id": "2e372dd4",
   "metadata": {},
   "outputs": [],
   "source": [
    "def find_duration(city,budget):\n",
    "    days = 0\n",
    "    total_cost = vc[city][\"flight\"]\n",
    "    \n",
    "    hotel_cost = vc[city][\"hotel_per_day\"]\n",
    "    car_cost = vc[city][\"weekly_car_rental\"]\n",
    "    \n",
    "    while total_cost <= budget:\n",
    "        days += 1\n",
    "        total_cost += hotel_cost\n",
    "        if days % 7 ==0:\n",
    "            total_cost += car_cost\n",
    "        if total_cost == budget:\n",
    "            break\n",
    "        \n",
    "    \n",
    "    return days\n",
    "\n",
    "\n",
    "def find_longest(cities,budget):\n",
    "    duration_dict={}\n",
    "\n",
    "    for city in cities:\n",
    "        duration_dict[city]=find_duration(city,budget)\n",
    "    \n",
    "    print(duration_dict)\n",
    "    longest_dur = max(duration_dict.values())\n",
    "    longest_dur_city = max(duration_dict,key=duration_dict.get)\n",
    "    \n",
    "    return f\"The city where you could stay the longest for {budget} would be {longest_dur_city} for {longest_dur} days\""
   ]
  },
  {
   "cell_type": "code",
   "execution_count": 111,
   "id": "9da75352",
   "metadata": {},
   "outputs": [
    {
     "name": "stdout",
     "output_type": "stream",
     "text": [
      "{'Paris': 40, 'London': 39, 'Dubai': 63, 'Mumbai': 78}\n"
     ]
    },
    {
     "data": {
      "text/plain": [
       "'The city where you could stay the longest for 2000 would be Mumbai for 78 days'"
      ]
     },
     "execution_count": 111,
     "metadata": {},
     "output_type": "execute_result"
    }
   ],
   "source": [
    "find_longest(vc,2000)"
   ]
  },
  {
   "cell_type": "code",
   "execution_count": null,
   "id": "9ee54653",
   "metadata": {},
   "outputs": [],
   "source": []
  },
  {
   "cell_type": "code",
   "execution_count": null,
   "id": "04685c40",
   "metadata": {},
   "outputs": [],
   "source": []
  }
 ],
 "metadata": {
  "kernelspec": {
   "display_name": "Python 3 (ipykernel)",
   "language": "python",
   "name": "python3"
  },
  "language_info": {
   "codemirror_mode": {
    "name": "ipython",
    "version": 3
   },
   "file_extension": ".py",
   "mimetype": "text/x-python",
   "name": "python",
   "nbconvert_exporter": "python",
   "pygments_lexer": "ipython3",
   "version": "3.9.4"
  }
 },
 "nbformat": 4,
 "nbformat_minor": 5
}
